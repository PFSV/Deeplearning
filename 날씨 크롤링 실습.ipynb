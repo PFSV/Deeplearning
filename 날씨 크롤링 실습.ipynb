{
 "cells": [
  {
   "cell_type": "markdown",
   "id": "bab4bce6",
   "metadata": {},
   "source": [
    "# 웹크롤링 예제\n",
    "https://h-glacier.tistory.com/"
   ]
  },
  {
   "cell_type": "code",
   "execution_count": 1,
   "id": "78946238",
   "metadata": {},
   "outputs": [],
   "source": [
    "#!pip install bs4\n",
    "# sns 데이터 크롤링 위해 크롤링 연습"
   ]
  },
  {
   "cell_type": "code",
   "execution_count": 2,
   "id": "fc9a4361",
   "metadata": {},
   "outputs": [
    {
     "data": {
      "text/html": [
       "<div>\n",
       "<style scoped>\n",
       "    .dataframe tbody tr th:only-of-type {\n",
       "        vertical-align: middle;\n",
       "    }\n",
       "\n",
       "    .dataframe tbody tr th {\n",
       "        vertical-align: top;\n",
       "    }\n",
       "\n",
       "    .dataframe thead th {\n",
       "        text-align: right;\n",
       "    }\n",
       "</style>\n",
       "<table border=\"1\" class=\"dataframe\">\n",
       "  <thead>\n",
       "    <tr style=\"text-align: right;\">\n",
       "      <th></th>\n",
       "      <th>대분류</th>\n",
       "      <th>시 / 군</th>\n",
       "      <th>구</th>\n",
       "      <th>동/면/리</th>\n",
       "    </tr>\n",
       "  </thead>\n",
       "  <tbody>\n",
       "    <tr>\n",
       "      <th>0</th>\n",
       "      <td>서울특별시</td>\n",
       "      <td>NaN</td>\n",
       "      <td>종로구</td>\n",
       "      <td>청운동</td>\n",
       "    </tr>\n",
       "    <tr>\n",
       "      <th>1</th>\n",
       "      <td>서울특별시</td>\n",
       "      <td>NaN</td>\n",
       "      <td>종로구</td>\n",
       "      <td>신교동</td>\n",
       "    </tr>\n",
       "    <tr>\n",
       "      <th>2</th>\n",
       "      <td>서울특별시</td>\n",
       "      <td>NaN</td>\n",
       "      <td>종로구</td>\n",
       "      <td>궁정동</td>\n",
       "    </tr>\n",
       "    <tr>\n",
       "      <th>3</th>\n",
       "      <td>서울특별시</td>\n",
       "      <td>NaN</td>\n",
       "      <td>종로구</td>\n",
       "      <td>효자동</td>\n",
       "    </tr>\n",
       "    <tr>\n",
       "      <th>4</th>\n",
       "      <td>서울특별시</td>\n",
       "      <td>NaN</td>\n",
       "      <td>종로구</td>\n",
       "      <td>창성동</td>\n",
       "    </tr>\n",
       "  </tbody>\n",
       "</table>\n",
       "</div>"
      ],
      "text/plain": [
       "     대분류 시 / 군    구 동/면/리\n",
       "0  서울특별시   NaN  종로구   청운동\n",
       "1  서울특별시   NaN  종로구   신교동\n",
       "2  서울특별시   NaN  종로구   궁정동\n",
       "3  서울특별시   NaN  종로구   효자동\n",
       "4  서울특별시   NaN  종로구   창성동"
      ]
     },
     "execution_count": 2,
     "metadata": {},
     "output_type": "execute_result"
    }
   ],
   "source": [
    "# 웹사이트의 html, css 정보를 끌어모으기 위한 라이브러리\n",
    "from bs4 import BeautifulSoup\n",
    "\n",
    "# url에 접속하기 위한 라이브러리\n",
    "import urllib.request\n",
    "\n",
    "import pandas as pd\n",
    "dong = pd.read_csv('./dongList.csv')\n",
    "dong.head()"
   ]
  },
  {
   "cell_type": "code",
   "execution_count": 3,
   "id": "8deadb85",
   "metadata": {
    "scrolled": true
   },
   "outputs": [
    {
     "name": "stdout",
     "output_type": "stream",
     "text": [
      "10362\n"
     ]
    }
   ],
   "source": [
    "# 데이터 형식: {'OO동 날씨' : 'https://... (네이버 날씨 검색)'}\n",
    "dongs = {x + ' 날씨' : r'https://search.naver.com/search.naver?where=nexearch&sm=top_hty&fbm=1&ie=utf8&query='\\\n",
    "         + urllib.parse.quote(x, safe='') \\\n",
    "         +'+%EB%82%A0%EC%94%A8' for x in dong['동/면/리']}\n",
    "\n",
    "#print(dongs)\n",
    "\n",
    "dongs_len = len(dongs)\n",
    "print(dongs_len)\n",
    "# 행정구역 호출\n",
    "# (해결)인코딩 문제"
   ]
  },
  {
   "cell_type": "code",
   "execution_count": 4,
   "id": "135b3bac",
   "metadata": {
    "scrolled": true
   },
   "outputs": [
    {
     "name": "stdout",
     "output_type": "stream",
     "text": [
      "총 10362 개 중 10 개 완료. \t 소요시간: 11.931 sec\n",
      "\t 누하동 날씨 27.1 어제보다 3.4° 낮아요  흐림 \n",
      "총 10362 개 중 20 개 완료. \t 소요시간: 10.5926 sec\n",
      "\t 신문로 날씨 27.1 어제보다 3.4° 낮아요  흐림 \n",
      "총 10362 개 중 30 개 완료. \t 소요시간: 10.3123 sec\n",
      "\t 권농동 날씨 27.0 어제보다 2.7° 낮아요  흐림 \n",
      "총 10362 개 중 40 개 완료. \t 소요시간: 11.0305 sec\n",
      "\t 소격동 날씨 27.0 어제보다 2.7° 낮아요  흐림 \n",
      "총 10362 개 중 50 개 완료. \t 소요시간: 10.7987 sec\n",
      "\t 봉익동 날씨 27.0 어제보다 2.7° 낮아요  흐림 \n",
      "총 10362 개 중 60 개 완료. \t 소요시간: 10.7956 sec\n",
      "\t 연건동 날씨 27.0 어제보다 2.7° 낮아요  흐림 \n",
      "총 10362 개 중 70 개 완료. \t 소요시간: 10.4239 sec\n",
      "\t 홍파동 날씨 27.0 어제보다 2.7° 낮아요  흐림 \n",
      "총 10362 개 중 80 개 완료. \t 소요시간: 11.2799 sec\n",
      "\t 다동 날씨 27.0 어제보다 2.7° 낮아요  흐림 \n",
      "총 10362 개 중 90 개 완료. \t 소요시간: 11.3904 sec\n",
      "\t 북창동 날씨 27.0 어제보다 2.7° 낮아요  흐림 \n",
      "총 10362 개 중 100 개 완료. \t 소요시간: 11.2126 sec\n",
      "\t 남학동 날씨 27.0 어제보다 2.7° 낮아요  흐림 \n",
      "총 10362 개 중 110 개 완료. \t 소요시간: 10.9268 sec\n",
      "\t 산림동 날씨 27.0 어제보다 2.7° 낮아요  흐림 \n",
      "총 10362 개 중 120 개 완료. \t 소요시간: 10.9837 sec\n",
      "\t 의주로 날씨 27.0 어제보다 2.7° 낮아요  흐림 \n",
      "총 10362 개 중 130 개 완료. \t 소요시간: 10.2007 sec\n",
      "\t 청파동 날씨 27.9 어제보다 1.5° 낮아요  흐림 \n",
      "총 10362 개 중 140 개 완료. \t 소요시간: 9.9919 sec\n",
      "\t 한강로 날씨 27.9 어제보다 1.5° 낮아요  흐림 \n",
      "총 10362 개 중 150 개 완료. \t 소요시간: 11.0601 sec\n",
      "\t 홍익동 날씨 27.2 어제보다 2.5° 낮아요  흐림 \n",
      "총 10362 개 중 160 개 완료. \t 소요시간: 10.8557 sec\n",
      "\t 용답동 날씨 27.2 어제보다 2.5° 낮아요  흐림 \n",
      "총 10362 개 중 170 개 완료. \t 소요시간: 12.3817 sec\n",
      "\t 제기동 날씨 27.2 어제보다 2.5° 낮아요  흐림 \n",
      "총 10362 개 중 180 개 완료. \t 소요시간: 11.6242 sec\n",
      "\t 중화동 날씨 28.0 어제보다 2° 낮아요  흐림 \n",
      "총 10362 개 중 190 개 완료. \t 소요시간: 118.5814 sec\n",
      "\t 보문동 날씨 27.2 어제보다 2.5° 낮아요  흐림 \n",
      "총 10362 개 중 200 개 완료. \t 소요시간: 11.126 sec\n",
      "\t 수유동 날씨 25.8 어제보다 3.3° 낮아요  흐림 \n",
      "총 소요시간: 328.58067202568054\n"
     ]
    }
   ],
   "source": [
    "# 오늘의 날씨\n",
    "# 루프를 이용해 행정구역에 대한 날씨 요약본 수집, 출력\n",
    "#print('  ○>> #오늘의 #날씨 #요약 \\n')\n",
    "cnt = 0\n",
    "tempsList = []\n",
    "castList = []\n",
    "dongsList = []\n",
    "\n",
    "from time import time\n",
    "import re\n",
    "\n",
    "t = time()\n",
    "time_start = time()\n",
    "for d in dongs:\n",
    "    cnt += 1\n",
    "    \n",
    "    # 크롤링의 진행도를 보기 위해, 시간을 측정\n",
    "    if cnt%10 == 1:\n",
    "        t = time()\n",
    "        \n",
    "    dongsList.append(d)\n",
    "    \n",
    "    # 각 동의 날씨를 네이버에서 검색한 페이지 열기\n",
    "    webpage = urllib.request.urlopen(dongs[d])\n",
    "    soup = BeautifulSoup(webpage, 'html.parser')\n",
    "    \n",
    "    # temps에 현재 온도가 표시된 html코드를 찾아서 넣음\n",
    "    temps = soup.find('div', \"temperature_text\")\n",
    "    \n",
    "    # try_except: 검색이 되지 않으면 Nonetype이 temps/cast에 저장되어서 이 경우엔 'None'을 데이터에 삽입\n",
    "    try:\n",
    "        # html코드를 제외한 텍스트를 저장\n",
    "        te = temps.get_text()\n",
    "        \n",
    "        # te에 '현재온도 00.0도' 형식으로 저장되기 때문에 실수만 추출\n",
    "        tempFloat = float(re.findall(\"\\d+.\\d+\", te)[0])\n",
    "        \n",
    "        # 삽입\n",
    "        tempsList.append(tempFloat)       \n",
    "    except:\n",
    "        tempsList.append('None')\n",
    "\n",
    "    # cast의 데이터 형식: 어제보다 3.5° 낮아요  흐림 <string>\n",
    "    cast = soup.find('p',\"summary\")\n",
    "    try:\n",
    "        cast_text = cast.get_text()\n",
    "        castList.append(cast_text)\n",
    "    except:\n",
    "        castList.append('None')\n",
    "    \n",
    "    # 진행도 출력\n",
    "    if cnt%10 == 0:\n",
    "        print('총', dongs_len, '개 중', cnt, '개 완료. \\t 소요시간:', round(time()-t, 4), 'sec' )\n",
    "        print('\\t', d, tempFloat, cast_text)\n",
    "    \n",
    "    # 데이터가 너무 많아서 중간에 break\n",
    "    if cnt>200:\n",
    "        break\n",
    "print('총 소요시간:', time()-time_start)\n"
   ]
  },
  {
   "cell_type": "code",
   "execution_count": 5,
   "id": "84b5f53e",
   "metadata": {},
   "outputs": [],
   "source": [
    "output = pd.DataFrame(data = {\"동\":dongsList, \"temps\":tempsList, \"cast\": castList})\n",
    "output.to_csv(\"dong_temps.csv\", encoding='cp949')\n"
   ]
  },
  {
   "cell_type": "code",
   "execution_count": 6,
   "id": "543ef4c1",
   "metadata": {},
   "outputs": [
    {
     "data": {
      "text/html": [
       "<div>\n",
       "<style scoped>\n",
       "    .dataframe tbody tr th:only-of-type {\n",
       "        vertical-align: middle;\n",
       "    }\n",
       "\n",
       "    .dataframe tbody tr th {\n",
       "        vertical-align: top;\n",
       "    }\n",
       "\n",
       "    .dataframe thead th {\n",
       "        text-align: right;\n",
       "    }\n",
       "</style>\n",
       "<table border=\"1\" class=\"dataframe\">\n",
       "  <thead>\n",
       "    <tr style=\"text-align: right;\">\n",
       "      <th></th>\n",
       "      <th>Unnamed: 0</th>\n",
       "      <th>동</th>\n",
       "      <th>temps</th>\n",
       "      <th>cast</th>\n",
       "    </tr>\n",
       "  </thead>\n",
       "  <tbody>\n",
       "    <tr>\n",
       "      <th>0</th>\n",
       "      <td>0</td>\n",
       "      <td>청운동 날씨</td>\n",
       "      <td>27.1</td>\n",
       "      <td>어제보다 3.4° 낮아요  흐림</td>\n",
       "    </tr>\n",
       "    <tr>\n",
       "      <th>1</th>\n",
       "      <td>1</td>\n",
       "      <td>신교동 날씨</td>\n",
       "      <td>27.1</td>\n",
       "      <td>어제보다 3.4° 낮아요  흐림</td>\n",
       "    </tr>\n",
       "    <tr>\n",
       "      <th>2</th>\n",
       "      <td>2</td>\n",
       "      <td>궁정동 날씨</td>\n",
       "      <td>27.1</td>\n",
       "      <td>어제보다 3.4° 낮아요  흐림</td>\n",
       "    </tr>\n",
       "    <tr>\n",
       "      <th>3</th>\n",
       "      <td>3</td>\n",
       "      <td>효자동 날씨</td>\n",
       "      <td>27.1</td>\n",
       "      <td>어제보다 3.4° 낮아요  흐림</td>\n",
       "    </tr>\n",
       "    <tr>\n",
       "      <th>4</th>\n",
       "      <td>4</td>\n",
       "      <td>창성동 날씨</td>\n",
       "      <td>27.1</td>\n",
       "      <td>어제보다 3.4° 낮아요  흐림</td>\n",
       "    </tr>\n",
       "  </tbody>\n",
       "</table>\n",
       "</div>"
      ],
      "text/plain": [
       "   Unnamed: 0       동 temps                cast\n",
       "0           0  청운동 날씨  27.1  어제보다 3.4° 낮아요  흐림 \n",
       "1           1  신교동 날씨  27.1  어제보다 3.4° 낮아요  흐림 \n",
       "2           2  궁정동 날씨  27.1  어제보다 3.4° 낮아요  흐림 \n",
       "3           3  효자동 날씨  27.1  어제보다 3.4° 낮아요  흐림 \n",
       "4           4  창성동 날씨  27.1  어제보다 3.4° 낮아요  흐림 "
      ]
     },
     "execution_count": 6,
     "metadata": {},
     "output_type": "execute_result"
    }
   ],
   "source": [
    "result = pd.read_csv('./dong_temps.csv', encoding='cp949')\n",
    "result.head()"
   ]
  },
  {
   "cell_type": "code",
   "execution_count": 7,
   "id": "39bad03a",
   "metadata": {},
   "outputs": [
    {
     "name": "stdout",
     "output_type": "stream",
     "text": [
      "<class 'pandas.core.frame.DataFrame'>\n",
      "RangeIndex: 201 entries, 0 to 200\n",
      "Data columns (total 4 columns):\n",
      " #   Column      Non-Null Count  Dtype \n",
      "---  ------      --------------  ----- \n",
      " 0   Unnamed: 0  201 non-null    int64 \n",
      " 1   동           201 non-null    object\n",
      " 2   temps       201 non-null    object\n",
      " 3   cast        201 non-null    object\n",
      "dtypes: int64(1), object(3)\n",
      "memory usage: 6.4+ KB\n"
     ]
    }
   ],
   "source": [
    "result.info()"
   ]
  }
 ],
 "metadata": {
  "kernelspec": {
   "display_name": "Python 3 (ipykernel)",
   "language": "python",
   "name": "python3"
  },
  "language_info": {
   "codemirror_mode": {
    "name": "ipython",
    "version": 3
   },
   "file_extension": ".py",
   "mimetype": "text/x-python",
   "name": "python",
   "nbconvert_exporter": "python",
   "pygments_lexer": "ipython3",
   "version": "3.9.12"
  }
 },
 "nbformat": 4,
 "nbformat_minor": 5
}
